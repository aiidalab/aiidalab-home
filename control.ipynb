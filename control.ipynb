{
 "cells": [
  {
   "cell_type": "markdown",
   "id": "2f454b5b",
   "metadata": {},
   "source": [
    "# AiiDA control"
   ]
  },
  {
   "cell_type": "code",
   "execution_count": null,
   "id": "03c3d207",
   "metadata": {},
   "outputs": [],
   "source": [
    "import ipywidgets as ipw\n",
    "from IPython.display import clear_output, display\n",
    "from aiida import load_profile\n",
    "load_profile();\n",
    "from home.control import DaemonControlWidget, ProcessControlWidget, GroupControlWidget, StatusControlWidget, ProfileControlWidget"
   ]
  },
  {
   "cell_type": "code",
   "execution_count": null,
   "id": "56f4a261",
   "metadata": {},
   "outputs": [],
   "source": [
    "correspondance = {\n",
    "    \"Daemon\": DaemonControlWidget,\n",
    "    \"Group\": GroupControlWidget,\n",
    "    \"Process\": ProcessControlWidget,\n",
    "    \"Status\": StatusControlWidget,\n",
    "    \"Profile\": ProfileControlWidget,\n",
    "}\n",
    "\n",
    "toc = ipw.ToggleButtons(\n",
    "    options=correspondance.keys(),\n",
    "    value=None,\n",
    "    orientation=\"vertical\",\n",
    "    layout=ipw.Layout(width='200px')\n",
    ")\n",
    "\n",
    "\n",
    "\n",
    "output = ipw.Output()\n",
    "\n",
    "def update_output(value={\"new\": \"Group\"}):\n",
    "    if value['new'] in correspondance:\n",
    "        with output:\n",
    "            clear_output()\n",
    "            display(correspondance[value['new']]())\n",
    "\n",
    "\n",
    "toc.observe(update_output, names=\"value\")\n",
    "\n",
    "toc.value = \"Daemon\"\n",
    "display(ipw.HBox([toc, output]))"
   ]
  }
 ],
 "metadata": {
  "kernelspec": {
   "display_name": "Python 3 (ipykernel)",
   "language": "python",
   "name": "python3"
  },
  "language_info": {
   "codemirror_mode": {
    "name": "ipython",
    "version": 3
   },
   "file_extension": ".py",
   "mimetype": "text/x-python",
   "name": "python",
   "nbconvert_exporter": "python",
   "pygments_lexer": "ipython3",
   "version": "3.9.13"
  }
 },
 "nbformat": 4,
 "nbformat_minor": 5
}
