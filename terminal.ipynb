{
 "cells": [
  {
   "cell_type": "code",
   "execution_count": null,
   "metadata": {},
   "outputs": [],
   "source": [
    "%%javascript\n",
    "// https://github.com/jupyter/notebook/blob/6.4.x/notebook/static/tree/js/terminallist.js#L45\n",
    "\n",
    "requirejs([\"base/js/utils\"], function(utils) {\n",
    "    var base_url = utils.get_body_data(\"baseUrl\")\n",
    "    var settings = {\n",
    "        type : \"POST\",\n",
    "        dataType: \"json\",\n",
    "        success : function (data, status, xhr) {\n",
    "            var name = data.name;\n",
    "            window.location = utils.url_path_join(base_url, 'terminals',\n",
    "               utils.encode_uri_components(name));\n",
    "        },\n",
    "        //error : function(jqXHR, status, error){\n",
    "        //    alert(\"error\");\n",
    "        //    utils.log_ajax_error(jqXHR, status, error);\n",
    "        //},\n",
    "    };\n",
    "\n",
    "    var url = utils.url_path_join(base_url, 'api/terminals');\n",
    "    utils.ajax(url, settings);\n",
    "});"
   ]
  }
 ],
 "metadata": {
  "kernelspec": {
   "display_name": "Python 3 (ipykernel)",
   "language": "python",
   "name": "python3"
  },
  "language_info": {
   "codemirror_mode": {
    "name": "ipython",
    "version": 3
   },
   "file_extension": ".py",
   "mimetype": "text/x-python",
   "name": "python",
   "nbconvert_exporter": "python",
   "pygments_lexer": "ipython3",
   "version": "3.13.0"
  }
 },
 "nbformat": 4,
 "nbformat_minor": 4
}
