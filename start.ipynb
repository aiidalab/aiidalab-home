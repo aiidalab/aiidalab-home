{
 "cells": [
  {
   "cell_type": "code",
   "execution_count": null,
   "metadata": {},
   "outputs": [],
   "source": [
    "%%javascript\n",
    "IPython.OutputArea.prototype._should_scroll = function(lines) {\n",
    "    return false;\n",
    "}"
   ]
  },
  {
   "cell_type": "code",
   "execution_count": null,
   "metadata": {},
   "outputs": [],
   "source": [
    "import requests\n",
    "# try-except is a fix for Quantum Mobile release v19.03.0 that does not have requests_cache installed\n",
    "try:\n",
    "    import requests_cache\n",
    "except ImportError:\n",
    "    pass\n",
    "import json\n",
    "import urllib.parse as urlparse\n",
    "import ipywidgets as ipw\n",
    "from app import AppBase\n",
    "from glob import glob\n",
    "from importlib import import_module\n",
    "from IPython.display import clear_output, Markdown\n",
    "from IPython.lib import backgroundjobs as bg\n",
    "from os import path, getenv\n",
    "from pprint import pformat\n",
    "from markdown import markdown"
   ]
  },
  {
   "cell_type": "code",
   "execution_count": null,
   "metadata": {},
   "outputs": [],
   "source": [
    "CONFIG_FN = \".launcher.json\"\n",
    "def read_config():\n",
    "    if path.exists(CONFIG_FN):\n",
    "        return json.load(open(CONFIG_FN,'r'))\n",
    "    else:\n",
    "        return {'order':[], 'hidden':[]} #default config\n",
    "\n",
    "def write_config(config):\n",
    "    json.dump(config, open(CONFIG_FN,'w'), indent=2)"
   ]
  },
  {
   "cell_type": "code",
   "execution_count": null,
   "metadata": {},
   "outputs": [],
   "source": [
    "def move_updown(name, delta):\n",
    "    config = read_config()\n",
    "    order = config['order']\n",
    "    n = len(order)\n",
    "    i = order.index(name)\n",
    "    del(order[i])\n",
    "    j = min(n-1, max(0, i + delta))\n",
    "    order.insert(j, name)\n",
    "    config['order'] = order\n",
    "    write_config(config)"
   ]
  },
  {
   "cell_type": "code",
   "execution_count": null,
   "metadata": {},
   "outputs": [],
   "source": [
    "parsed_url = urlparse.parse_qs(urlparse.urlsplit(jupyter_notebook_url).query)\n",
    "if 'move_up' in parsed_url:\n",
    "    move_updown(parsed_url['move_up'][0], -1)\n",
    "elif 'move_down' in parsed_url:\n",
    "    move_updown(parsed_url['move_down'][0], +1)"
   ]
  },
  {
   "cell_type": "code",
   "execution_count": null,
   "metadata": {},
   "outputs": [],
   "source": [
    "%%javascript\n",
    "// in case an app was moved up or down\n",
    "// I need to remove the corresponding variable from the url\n",
    "// othervise if I update page again the same move will happen\n",
    "\n",
    "var url = window.location.toString();\n",
    "function getQueryVariable(variable)\n",
    "{\n",
    "       var query = window.location.search.substring(1);\n",
    "       var vars = query.split(\"&\");\n",
    "       for (var i=0;i<vars.length;i++) {\n",
    "               var pair = vars[i].split(\"=\");\n",
    "               if(pair[0] == variable){return pair[1];}\n",
    "       }\n",
    "       return(false);\n",
    "}\n",
    "if (name = getQueryVariable(\"move_up\")){\n",
    "    url = url.replace(\"move_up=\".concat(name), \"\");\n",
    "} else if (name = getQueryVariable(\"move_down\")) {\n",
    "    url = url.replace(\"move_down=\".concat(name), \"\");\n",
    "}\n",
    "window.history.pushState(\"\", \"\", url);"
   ]
  },
  {
   "cell_type": "code",
   "execution_count": null,
   "metadata": {},
   "outputs": [],
   "source": [
    "from config import aiidalab_home, aiidalab_apps"
   ]
  },
  {
   "cell_type": "code",
   "execution_count": null,
   "metadata": {},
   "outputs": [],
   "source": [
    "def update_cache():\n",
    "    \"\"\"Run this process asynchronously\"\"\"\n",
    "    requests_cache.install_cache(cache_name='apps_meta', backend='sqlite', expire_after=3600, old_data_on_error=True)\n",
    "    requests.get(registry_url)\n",
    "    requests_cache.install_cache(cache_name='apps_meta', backend='sqlite')\n",
    "\n",
    "# try-except is a fix for Quantum Mobile release v19.03.0 that does not have requests_cache installed\n",
    "try:\n",
    "    requests_cache.install_cache(cache_name='apps_meta', backend='sqlite') # at start getting data from cache\n",
    "    update_cache_background = bg.BackgroundJobFunc(update_cache) # if requests_cache is installed, the\n",
    "                                                                 # update_cache_background variable will be present\n",
    "except NameError:\n",
    "    pass\n",
    "registry_url = 'https://aiidalab.materialscloud.org/appsdata/apps_meta.json'\n",
    "try:\n",
    "    app_registry = requests.get(registry_url).json()['apps']\n",
    "    if 'update_cache_background' in globals():\n",
    "        update_cache_background.start()\n",
    "except ValueError:\n",
    "    print(\"Registry server is unavailable! Can't check for the updates\")\n",
    "    app_registry = {}"
   ]
  },
  {
   "cell_type": "code",
   "execution_count": null,
   "metadata": {},
   "outputs": [],
   "source": [
    "def render():\n",
    "    clear_output()\n",
    "    render_home()\n",
    "    apps = load_apps()\n",
    "    config = read_config()\n",
    "    for name in apps:\n",
    "        accordion = mk_accordion(name)\n",
    "        accordion.selected_index = None if name in config['hidden'] else 0\n",
    "        display(accordion)"
   ]
  },
  {
   "cell_type": "code",
   "execution_count": null,
   "metadata": {},
   "outputs": [],
   "source": [
    "def render_home():\n",
    "    launcher = load_widget('home')\n",
    "    launcher.layout = ipw.Layout(width=\"900px\", padding=\"20px\", color='gray')\n",
    "    app = AppBase('home', app_registry.get('home', None), aiidalab_apps)\n",
    "    update_info = ipw.HTML(\"{}\".format(app.update_info))\n",
    "    update_info.layout.margin = \"0px 0px 0px 800px\"\n",
    "    description_box = ipw.HTML(\"<a href=./single_app.ipynb?app=home><button>Manage App</button></a> {}\".format(\n",
    "        app.git_hidden_url), layout={'width': 'initial'})\n",
    "    description_box.layout.margin = \"0px 0px 0px 700px\"\n",
    "    info_line = app.install_info\n",
    "    display(update_info, launcher, description_box, info_line)"
   ]
  },
  {
   "cell_type": "code",
   "execution_count": null,
   "metadata": {},
   "outputs": [],
   "source": [
    "def mk_accordion(name):\n",
    "    launcher = load_widget(name)\n",
    "    launcher.layout = ipw.Layout(width=\"900px\")\n",
    "    btn_box = mk_buttons(name)\n",
    "    app_data = app_registry.get(name, None)\n",
    "    app = AppBase(name, app_data, aiidalab_apps)\n",
    "    update_info = ipw.HTML(\"{}\".format(app.update_info))\n",
    "    update_info.layout.margin = \"0px 0px 0px 800px\"\n",
    "    run_line = ipw.HBox([launcher, btn_box])\n",
    "    description_box = ipw.HTML(\"<a href=./single_app.ipynb?app={}><button>Manage App</button></a> {}\".format(name, app.git_hidden_url),\n",
    "                               layout={'width': 'initial'})\n",
    "    info_line = app.install_info\n",
    "    description_box.layout.margin = \"0px 0px 0px 700px\"\n",
    "    box = ipw.VBox([update_info, run_line, description_box])\n",
    "    accordion = ipw.Accordion(children=[box])\n",
    "    title = load_title(name)\n",
    "    accordion.set_title(0, title)\n",
    "    on_change = lambda c: record_showhide(name, accordion.selected_index==0)\n",
    "    accordion.observe(on_change, names=\"selected_index\")\n",
    "    return accordion"
   ]
  },
  {
   "cell_type": "code",
   "execution_count": null,
   "metadata": {},
   "outputs": [],
   "source": [
    "def load_title(name):\n",
    "    try:\n",
    "        fn = path.join(aiidalab_apps, name, 'metadata.json')\n",
    "        metadata = json.load(open(fn))\n",
    "        title = metadata['title']\n",
    "    except:\n",
    "        title = \"%s (couldn't load title)\"%name\n",
    "    return title"
   ]
  },
  {
   "cell_type": "code",
   "execution_count": null,
   "metadata": {},
   "outputs": [],
   "source": [
    "def load_apps():\n",
    "    apps = [path.basename(fn) for fn in glob(path.join(aiidalab_apps, '*')) if path.isdir(fn) and not fn.endswith('home') and\n",
    "           not fn.endswith('__pycache__')]\n",
    "    config = read_config()\n",
    "    order = config['order']\n",
    "    apps.sort(key=lambda x: order.index(x) if x in order else -1)\n",
    "    config['order'] = apps\n",
    "    write_config(config)\n",
    "    return apps"
   ]
  },
  {
   "cell_type": "code",
   "execution_count": null,
   "metadata": {},
   "outputs": [],
   "source": [
    "def load_widget(name):\n",
    "    if path.exists(path.join(aiidalab_apps, name, 'start.py')):\n",
    "        return load_start_py(name)\n",
    "    else:  # fall back\n",
    "        return load_start_md(name)"
   ]
  },
  {
   "cell_type": "code",
   "execution_count": null,
   "metadata": {},
   "outputs": [],
   "source": [
    "def load_start_py(name):\n",
    "    try:\n",
    "        mod = import_module('apps.%s.start' % name)\n",
    "        appbase = \"../\" + name\n",
    "        jupbase = \"../../..\"\n",
    "        notebase = jupbase+\"/notebooks/apps/\"+name\n",
    "        try:\n",
    "            return mod.get_start_widget(appbase=appbase, jupbase=jupbase, notebase=notebase)\n",
    "        except:\n",
    "            return mod.get_start_widget(appbase=appbase, jupbase=jupbase)\n",
    "    except Exception as e:\n",
    "        return ipw.HTML(\"<pre>%s</pre>\" % str(e))"
   ]
  },
  {
   "cell_type": "code",
   "execution_count": null,
   "metadata": {},
   "outputs": [],
   "source": [
    "def load_start_md(name):\n",
    "    fn = path.join(aiidalab_apps, name, 'start.md')\n",
    "    try:\n",
    "        \n",
    "        md_src = open(fn).read()\n",
    "        md_src = md_src.replace(\"](./\", \"](../%s/\"%name)\n",
    "        html = markdown(md_src)\n",
    "\n",
    "        # open links in new window/tab\n",
    "        html = html.replace('<a ', '<a target=\"_blank\" ')\n",
    "\n",
    "        # downsize headings\n",
    "        html = html.replace(\"<h3\", \"<h4\")\n",
    "        return ipw.HTML(html)\n",
    "\n",
    "    except Exception as e:\n",
    "        return ipw.HTML(\"Could not load start.md\")"
   ]
  },
  {
   "cell_type": "code",
   "execution_count": null,
   "metadata": {},
   "outputs": [],
   "source": [
    "def mk_buttons(name):\n",
    "    layout = ipw.Layout(width=\"40px\")\n",
    "    btn_box = ipw.HTML(\"\"\"\n",
    "    <a href=./start.ipynb?move_up={} title=\"Move it up\"><i class='fa fa-arrow-up' style='color:#337ab7;font-size:2em;' ></i></a>\n",
    "    <a href=./start.ipynb?move_down={} title=\"Move it down\"><i class='fa fa-arrow-down' style='color:#337ab7;font-size:2em;' ></i></a>\n",
    "    \"\"\".format(name, name), layout=layout)\n",
    "    btn_box.layout.margin = \"50px 0px 0px 0px\"\n",
    "\n",
    "    return(btn_box)"
   ]
  },
  {
   "cell_type": "code",
   "execution_count": null,
   "metadata": {},
   "outputs": [],
   "source": [
    "def record_showhide(name, visible):\n",
    "    config = read_config()\n",
    "    hidden = set(config['hidden'])\n",
    "    if visible:\n",
    "        hidden.discard(name)\n",
    "    else:\n",
    "        hidden.add(name)\n",
    "    config['hidden'] = list(hidden)\n",
    "    write_config(config)"
   ]
  },
  {
   "cell_type": "code",
   "execution_count": null,
   "metadata": {},
   "outputs": [],
   "source": [
    "#%load_ext line_profiler\n",
    "#start the app\n",
    "#%lprun -f mk_accordion render()\n",
    "#%timeit render()\n",
    "render()"
   ]
  }
 ],
 "metadata": {
  "kernelspec": {
   "display_name": "Python 3",
   "language": "python",
   "name": "python3"
  },
  "language_info": {
   "codemirror_mode": {
    "name": "ipython",
    "version": 3
   },
   "file_extension": ".py",
   "mimetype": "text/x-python",
   "name": "python",
   "nbconvert_exporter": "python",
   "pygments_lexer": "ipython3",
   "version": "3.6.7"
  }
 },
 "nbformat": 4,
 "nbformat_minor": 2
}
