{
 "cells": [
  {
   "cell_type": "code",
   "execution_count": null,
   "metadata": {},
   "outputs": [],
   "source": [
    "%%javascript\n",
    "IPython.OutputArea.prototype._should_scroll = function(lines) {\n",
    "    return false;\n",
    "}\n",
    "if (document.getElementById('appmode-busy')) {\n",
    "    window.onbeforeunload = function() {return}\n",
    "}"
   ]
  },
  {
   "cell_type": "code",
   "execution_count": null,
   "metadata": {
    "vscode": {
     "languageId": "html"
    }
   },
   "outputs": [],
   "source": [
    "%%html\n",
    "\n",
    "<style>\n",
    "  .output_subarea {\n",
    "    max-width: none !important;\n",
    "  }\n",
    "  .home-notification {\n",
    "    background-color: antiquewhite;\n",
    "    margin: 2px;\n",
    "    padding: 8px;\n",
    "    border: 1px solid red;\n",
    "  }\n",
    "</style>\n"
   ]
  },
  {
   "cell_type": "code",
   "execution_count": null,
   "metadata": {},
   "outputs": [],
   "source": [
    "import urllib.parse as urlparse\n",
    "\n",
    "# variable `jupyter_notebook_url` is injected by appmode\n",
    "try:\n",
    "    url = urlparse.urlsplit(jupyter_notebook_url)\n",
    "except NameError:\n",
    "    parsed_url = \"\"\n",
    "else:\n",
    "    parsed_url = urlparse.parse_qs(url.query)"
   ]
  },
  {
   "cell_type": "code",
   "execution_count": null,
   "metadata": {},
   "outputs": [],
   "source": [
    "from home.start_page import AiidaLabHome\n",
    "\n",
    "home = AiidaLabHome()\n",
    "if \"move_up\" in parsed_url:\n",
    "    home.move_updown(parsed_url[\"move_up\"][0], -1)\n",
    "elif \"move_down\" in parsed_url:\n",
    "    home.move_updown(parsed_url[\"move_down\"][0], +1)\n",
    "home.render()"
   ]
  },
  {
   "cell_type": "code",
   "execution_count": null,
   "metadata": {},
   "outputs": [],
   "source": [
    "%%javascript\n",
    "// in case an app was moved up or down\n",
    "// I need to remove the corresponding variable from the url\n",
    "// otherwise if I update page again the same move will happen\n",
    "\n",
    "var url = window.location.toString();\n",
    "function getQueryVariable(variable)\n",
    "{\n",
    "       var query = window.location.search.substring(1);\n",
    "       var vars = query.split(\"&\");\n",
    "       for (var i=0;i<vars.length;i++) {\n",
    "               var pair = vars[i].split(\"=\");\n",
    "               if(pair[0] == variable){return pair[1];}\n",
    "       }\n",
    "       return(false);\n",
    "}\n",
    "if (name = getQueryVariable(\"move_up\")){\n",
    "    url = url.replace(\"move_up=\".concat(name), \"\");\n",
    "} else if (name = getQueryVariable(\"move_down\")) {\n",
    "    url = url.replace(\"move_down=\".concat(name), \"\");\n",
    "}\n",
    "window.history.pushState(\"\", \"\", url);"
   ]
  }
 ],
 "metadata": {
  "kernelspec": {
   "display_name": "base",
   "language": "python",
   "name": "python3"
  },
  "language_info": {
   "codemirror_mode": {
    "name": "ipython",
    "version": 3
   },
   "file_extension": ".py",
   "mimetype": "text/x-python",
   "name": "python",
   "nbconvert_exporter": "python",
   "pygments_lexer": "ipython3",
   "version": "3.9.13"
  }
 },
 "nbformat": 4,
 "nbformat_minor": 2
}
