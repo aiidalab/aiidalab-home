{
 "cells": [
  {
   "cell_type": "code",
   "execution_count": null,
   "metadata": {},
   "outputs": [],
   "source": [
    "%%javascript\n",
    "\n",
    "IPython.OutputArea.prototype._should_scroll = function(lines) {\n",
    "    return false;\n",
    "}\n",
    "\n",
    "// in case an app was moved up or down\n",
    "// I need to remove the corresponding variable from the url\n",
    "// othervise if I update page again the same move will happen\n",
    "\n",
    "var url = window.location.toString();\n",
    "function getQueryVariable(variable)\n",
    "{\n",
    "       var query = window.location.search.substring(1);\n",
    "       var vars = query.split(\"&\");\n",
    "       for (var i=0;i<vars.length;i++) {\n",
    "               var pair = vars[i].split(\"=\");\n",
    "               if(pair[0] == variable){return pair[1];}\n",
    "       }\n",
    "       return(false);\n",
    "}\n",
    "if (name = getQueryVariable(\"move_up\")){\n",
    "    url = url.replace(\"move_up=\".concat(name), \"\");\n",
    "} else if (name = getQueryVariable(\"move_down\")) {\n",
    "    url = url.replace(\"move_down=\".concat(name), \"\");\n",
    "}\n",
    "window.history.pushState(\"\", \"\", url);"
   ]
  },
  {
   "cell_type": "code",
   "execution_count": null,
   "metadata": {},
   "outputs": [],
   "source": [
    "import urllib.parse as urlparse\n",
    "parsed_url = urlparse.parse_qs(urlparse.urlsplit(jupyter_notebook_url).query)\n",
    "if 'move_up' in parsed_url:\n",
    "    home.move_updown(parsed_url['move_up'][0], -1)\n",
    "elif 'move_down' in parsed_url:\n",
    "    home.move_updown(parsed_url['move_down'][0], +1)"
   ]
  },
  {
   "cell_type": "code",
   "execution_count": null,
   "metadata": {},
   "outputs": [],
   "source": [
    "import aiida\n",
    "if aiida.__version__ < '1.0.0':\n",
    "    import os\n",
    "    import sys\n",
    "    import shutil\n",
    "    import ipywidgets as ipw\n",
    "    from pathlib import Path\n",
    "    import subprocess\n",
    "\n",
    "    display(ipw.HTML(\"\"\"<font size=\"4\">Warning! The aiidalab-home application is incompatible\n",
    "                     with AiiDA {} that is currently installed on your system. To fix\n",
    "                     the problem you should switch to the 'support/aiida-0.12.x' branch.\n",
    "                     This can be done either manually or by clicking on the button \n",
    "                     below.</font>\"\"\".format(aiida.__version__)))\n",
    "    def update_home(_=None):\n",
    "        home_app_path = os.path.join(str(Path.home()), 'apps', 'home')\n",
    "        try:\n",
    "            shutil.rmtree(home_app_path)\n",
    "        except:\n",
    "            pass\n",
    "        subprocess.call(['git', 'clone', 'https://github.com/aiidalab/aiidalab-home.git', home_app_path])\n",
    "        os.chdir(home_app_path)\n",
    "        subprocess.call(['git', 'checkout', 'support/aiida-0.12.x'])\n",
    "    \n",
    "    update_btn = ipw.Button(description='Downgrade home app', layout={'width': 'initial'}, button_style='danger')\n",
    "    update_btn.on_click(update_home)\n",
    "    display(update_btn)\n",
    "else:\n",
    "    from aiidalab.home import AiidaLabHome\n",
    "    display(AiidaLabHome().render())  "
   ]
  }
 ],
 "metadata": {
  "kernelspec": {
   "display_name": "Python 3",
   "language": "python",
   "name": "python3"
  },
  "language_info": {
   "codemirror_mode": {
    "name": "ipython",
    "version": 3
   },
   "file_extension": ".py",
   "mimetype": "text/x-python",
   "name": "python",
   "nbconvert_exporter": "python",
   "pygments_lexer": "ipython3",
   "version": "3.7.4"
  }
 },
 "nbformat": 4,
 "nbformat_minor": 2
}
