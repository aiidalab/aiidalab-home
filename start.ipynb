{
 "cells": [
  {
   "cell_type": "code",
   "execution_count": null,
   "metadata": {},
   "outputs": [],
   "source": [
    "%%javascript\n",
    "IPython.OutputArea.prototype._should_scroll = function(lines) {\n",
    "    return false;\n",
    "}"
   ]
  },
  {
   "cell_type": "code",
   "execution_count": null,
   "metadata": {},
   "outputs": [],
   "source": [
    "try:\n",
    "    import urllib.parse as urlparse\n",
    "except ImportError:\n",
    "    import urlparse\n",
    "parsed_url = urlparse.parse_qs(urlparse.urlsplit(jupyter_notebook_url).query)"
   ]
  },
  {
   "cell_type": "code",
   "execution_count": null,
   "metadata": {},
   "outputs": [],
   "source": [
    "import aiida\n",
    "home = None\n",
    "\n",
    "if aiida.__version__ < '1.0.0':\n",
    "    import os\n",
    "    import sys\n",
    "    import shutil\n",
    "    import ipywidgets as ipw\n",
    "    import subprocess\n",
    "    import datetime\n",
    "\n",
    "    display(ipw.HTML(\"\"\"<font size=\"4\">Warning! The aiidalab-home application is incompatible\n",
    "                     with AiiDA {} that is currently installed on your system. To fix\n",
    "                     the problem you should switch to the 'support/aiida-0.12.x' branch.\n",
    "                     This can be done either manually or by clicking on the button \n",
    "                     below.</font>\"\"\".format(aiida.__version__)))\n",
    "    def update_home(_=None):\n",
    "        home = os.path.expanduser('~')\n",
    "        home_app_path = os.path.join(home, 'apps', 'home')\n",
    "        home_app_new_path = home_app_path + '-backup-' + datetime.datetime.now().isoformat()\n",
    "        try:\n",
    "            os.chdir(home) # Before removing app folder - move to the user's home.\n",
    "            shutil.move(home_app_path, home_app_new_path)\n",
    "        except:\n",
    "            pass\n",
    "        subprocess.call(['git', 'clone', 'https://github.com/aiidalab/aiidalab-home.git', home_app_path])\n",
    "        os.chdir(home_app_path)\n",
    "        subprocess.call(['git', 'checkout', 'support/aiida-0.12.x'])\n",
    "        display(ipw.HTML(\"\"\"<font size=\"4\">Downgrade successful. The old home app was placed under {} folder.\n",
    "        Please, reload the page to see the downgraded home app.</font>\"\"\".format(home_app_new_path)))\n",
    "    \n",
    "    update_btn = ipw.Button(description='Downgrade home app', layout={'width': 'initial'}, button_style='danger')\n",
    "    update_btn.on_click(update_home)\n",
    "    display(update_btn)\n",
    "else:\n",
    "    from home.start_page import AiidaLabHome\n",
    "    home = AiidaLabHome()\n",
    "    if 'move_up' in parsed_url:\n",
    "        home.move_updown(parsed_url['move_up'][0], -1)\n",
    "    elif 'move_down' in parsed_url:\n",
    "        home.move_updown(parsed_url['move_down'][0], +1)\n",
    "    display(home.render())"
   ]
  },
  {
   "cell_type": "code",
   "execution_count": null,
   "metadata": {},
   "outputs": [],
   "source": [
    "%%javascript\n",
    "// in case an app was moved up or down\n",
    "// I need to remove the corresponding variable from the url\n",
    "// othervise if I update page again the same move will happen\n",
    "\n",
    "var url = window.location.toString();\n",
    "function getQueryVariable(variable)\n",
    "{\n",
    "       var query = window.location.search.substring(1);\n",
    "       var vars = query.split(\"&\");\n",
    "       for (var i=0;i<vars.length;i++) {\n",
    "               var pair = vars[i].split(\"=\");\n",
    "               if(pair[0] == variable){return pair[1];}\n",
    "       }\n",
    "       return(false);\n",
    "}\n",
    "if (name = getQueryVariable(\"move_up\")){\n",
    "    url = url.replace(\"move_up=\".concat(name), \"\");\n",
    "} else if (name = getQueryVariable(\"move_down\")) {\n",
    "    url = url.replace(\"move_down=\".concat(name), \"\");\n",
    "}\n",
    "window.history.pushState(\"\", \"\", url);"
   ]
  }
 ],
 "metadata": {
  "kernelspec": {
   "display_name": "Python 3",
   "language": "python",
   "name": "python3"
  },
  "language_info": {
   "codemirror_mode": {
    "name": "ipython",
    "version": 3
   },
   "file_extension": ".py",
   "mimetype": "text/x-python",
   "name": "python",
   "nbconvert_exporter": "python",
   "pygments_lexer": "ipython3",
   "version": "3.7.4"
  }
 },
 "nbformat": 4,
 "nbformat_minor": 2
}
