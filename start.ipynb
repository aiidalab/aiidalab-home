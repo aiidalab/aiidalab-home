{
 "cells": [
  {
   "cell_type": "code",
   "execution_count": null,
   "metadata": {},
   "outputs": [],
   "source": [
    "%%javascript\n",
    "IPython.OutputArea.prototype._should_scroll = function(lines) {\n",
    "    return false;\n",
    "}"
   ]
  },
  {
   "cell_type": "code",
   "execution_count": null,
   "metadata": {},
   "outputs": [],
   "source": [
    "from aiidalab.home import AiidalabHome\n",
    "import urllib.parse as urlparse"
   ]
  },
  {
   "cell_type": "code",
   "execution_count": null,
   "metadata": {},
   "outputs": [],
   "source": [
    "home = AiidalabHome()"
   ]
  },
  {
   "cell_type": "code",
   "execution_count": null,
   "metadata": {},
   "outputs": [],
   "source": [
    "%%javascript\n",
    "// in case an app was moved up or down\n",
    "// I need to remove the corresponding variable from the url\n",
    "// othervise if I update page again the same move will happen\n",
    "\n",
    "var url = window.location.toString();\n",
    "function getQueryVariable(variable)\n",
    "{\n",
    "       var query = window.location.search.substring(1);\n",
    "       var vars = query.split(\"&\");\n",
    "       for (var i=0;i<vars.length;i++) {\n",
    "               var pair = vars[i].split(\"=\");\n",
    "               if(pair[0] == variable){return pair[1];}\n",
    "       }\n",
    "       return(false);\n",
    "}\n",
    "if (name = getQueryVariable(\"move_up\")){\n",
    "    url = url.replace(\"move_up=\".concat(name), \"\");\n",
    "} else if (name = getQueryVariable(\"move_down\")) {\n",
    "    url = url.replace(\"move_down=\".concat(name), \"\");\n",
    "}\n",
    "window.history.pushState(\"\", \"\", url);"
   ]
  },
  {
   "cell_type": "code",
   "execution_count": null,
   "metadata": {},
   "outputs": [],
   "source": [
    "parsed_url = urlparse.parse_qs(urlparse.urlsplit(jupyter_notebook_url).query)\n",
    "if 'move_up' in parsed_url:\n",
    "    home.move_updown(parsed_url['move_up'][0], -1)\n",
    "elif 'move_down' in parsed_url:\n",
    "    home.move_updown(parsed_url['move_down'][0], +1)"
   ]
  },
  {
   "cell_type": "code",
   "execution_count": null,
   "metadata": {},
   "outputs": [],
   "source": [
    "display(home.render())"
   ]
  }
 ],
 "metadata": {
  "kernelspec": {
   "display_name": "Python 3",
   "language": "python",
   "name": "python3"
  },
  "language_info": {
   "codemirror_mode": {
    "name": "ipython",
    "version": 3
   },
   "file_extension": ".py",
   "mimetype": "text/x-python",
   "name": "python",
   "nbconvert_exporter": "python",
   "pygments_lexer": "ipython3",
   "version": "3.6.9"
  }
 },
 "nbformat": 4,
 "nbformat_minor": 2
}
