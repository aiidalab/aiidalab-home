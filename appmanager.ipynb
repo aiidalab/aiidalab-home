{
 "cells": [
  {
   "cell_type": "markdown",
   "metadata": {},
   "source": [
    "# Application Manager"
   ]
  },
  {
   "cell_type": "code",
   "execution_count": null,
   "metadata": {},
   "outputs": [],
   "source": [
    "from time import sleep\n",
    "import requests\n",
    "import ipywidgets as ipw\n",
    "from os import path\n",
    "import subprocess\n",
    "from collections import OrderedDict\n",
    "from IPython.display import clear_output"
   ]
  },
  {
   "cell_type": "code",
   "execution_count": null,
   "metadata": {},
   "outputs": [],
   "source": [
    "# load registry\n",
    "registry_url = 'https://raw.githubusercontent.com/materialscloud-org/mc-registry/master/apps.json'\n",
    "registry = requests.get(registry_url).json()"
   ]
  },
  {
   "cell_type": "code",
   "execution_count": null,
   "metadata": {},
   "outputs": [],
   "source": [
    "def get_appdir(name):\n",
    "    return \"/project/apps/\"+name"
   ]
  },
  {
   "cell_type": "code",
   "execution_count": null,
   "metadata": {},
   "outputs": [],
   "source": [
    "def update_app_list():\n",
    "    selected = app_select.value\n",
    "    app_select.value = None\n",
    "    options = OrderedDict()\n",
    "    for name in sorted(registry.keys()):\n",
    "        label = name\n",
    "        if path.exists(get_appdir(name)):\n",
    "            label += \" (installed)\"\n",
    "        options[label] = name\n",
    "    app_select.options = options\n",
    "    app_select.value = selected"
   ]
  },
  {
   "cell_type": "code",
   "execution_count": null,
   "metadata": {
    "scrolled": false
   },
   "outputs": [],
   "source": [
    "def on_app_change(c):\n",
    "    with out_app:\n",
    "        clear_output()\n",
    "        if app_select.value:\n",
    "            display_app_box(app_select.value)\n",
    "\n",
    "app_select = ipw.Select(layout={'height': '300px'})\n",
    "update_app_list()\n",
    "app_select.observe(on_app_change, names='value')\n",
    "\n",
    "out_app = ipw.Output()\n",
    "update_out = ipw.Output()\n",
    "display(ipw.VBox([app_select, out_app, update_out]))"
   ]
  },
  {
   "cell_type": "code",
   "execution_count": null,
   "metadata": {},
   "outputs": [],
   "source": [
    "def display_app_box(name):\n",
    "    print(\"Name: \"+name)\n",
    "    git_url = registry[name]['git_url']\n",
    "    print(\"URL: \"+git_url)\n",
    "    meta_url = registry[name]['meta_url']\n",
    "    metadata = requests.get(meta_url).json()\n",
    "    print(\"Description: \"+metadata['description'])\n",
    "    \n",
    "    if not path.exists(get_appdir(name)):\n",
    "        btn = ipw.Button(description=\"install\")\n",
    "        btn.on_click(lambda b: install_app(name))   \n",
    "        display(btn)\n",
    "    else:\n",
    "        ver_sel = mk_version_selector(name)\n",
    "        \n",
    "        btn_remove = ipw.Button(description=\"remove\")\n",
    "        btn_remove.on_click(lambda b: remove_app(name))\n",
    "        \n",
    "        btn_check_updates = ipw.Button(description='check for updates')\n",
    "        btn_check_updates.on_click(lambda b: check_updates(name))\n",
    "        \n",
    "        display(ipw. HBox([btn_remove, btn_check_updates, ver_sel]))\n",
    "\n",
    "    try:\n",
    "        btn_remove.disabled = name == \"home\"\n",
    "    except UnboundLocalError:\n",
    "        pass"
   ]
  },
  {
   "cell_type": "code",
   "execution_count": null,
   "metadata": {},
   "outputs": [],
   "source": [
    "def check_updates(name):\n",
    "    with update_out:\n",
    "        clear_output()\n",
    "        print(\"Checking app %s...\"%name)\n",
    "        assert name != \"home\"\n",
    "        appdir = get_appdir(name)\n",
    "        git_fetch = ! git -C $appdir fetch\n",
    "        git_status = ! git -C $appdir status\n",
    "        print git_status[1]\n",
    "        if 'Your branch is behind' in git_status[1]:\n",
    "            print('Updates available.')\n",
    "            if 'and can be fast-forwarded' in git_status[1]:\n",
    "                print 'I am able to install it.'\n",
    "                btn_update = ipw.Button(description='Update now!')\n",
    "                btn_update.on_click(lambda b: install_update(name))\n",
    "                display(btn_update)\n",
    "            else:\n",
    "                print 'But you have to resolve the conflicts yourself.'\n",
    "        else:\n",
    "            print('No Updates.')\n",
    "    \n",
    "def install_update(name):\n",
    "    with update_out:\n",
    "        print('Updating app {}...'.format(name))\n",
    "        appdir = get_appdir(name)\n",
    "        git_pull = ! git -C $appdir pull\n",
    "        print git_pull\n",
    "        print('Update done.')\n",
    "        sleep(3)\n",
    "        clear_output()\n",
    "    update_app_list()"
   ]
  },
  {
   "cell_type": "code",
   "execution_count": null,
   "metadata": {},
   "outputs": [],
   "source": [
    "def mk_version_selector(name):\n",
    "    git_url = registry[name]['git_url']\n",
    "    appdir = get_appdir(name)\n",
    "    ! git -C $appdir fetch --prune --quiet\n",
    "    \n",
    "    \n",
    "    ref_lines = ! git -C $appdir show-ref\n",
    "    options = {}\n",
    "    for line in ref_lines:\n",
    "        commit, ref = line.split()\n",
    "        options[ref] = commit\n",
    "\n",
    "    head_lines = ! git -C $appdir rev-parse HEAD\n",
    "    head = head_lines[0]\n",
    "    if head not in options.values():\n",
    "        options[head] = head\n",
    "    print(\"head:\"+head)\n",
    "    print(\"appdir: \"+appdir)\n",
    "    ref_drop = ipw.Dropdown(description=\"Version:\", options=options, value=head)\n",
    "    def on_ref_change(c):\n",
    "        change_ref(name, ref_drop.value)\n",
    "    ref_drop.observe(on_ref_change, names='value')\n",
    "    \n",
    "    return(ref_drop)"
   ]
  },
  {
   "cell_type": "code",
   "execution_count": null,
   "metadata": {},
   "outputs": [],
   "source": [
    "def change_ref(name, commit):\n",
    "    print(\"Changing version of app %s...\"%name)\n",
    "    appdir = get_appdir(name)\n",
    "    ! git -C $appdir checkout --quiet $commit\n",
    "    sleep(1)\n",
    "    update_app_list()"
   ]
  },
  {
   "cell_type": "code",
   "execution_count": null,
   "metadata": {},
   "outputs": [],
   "source": [
    "def install_app(name):\n",
    "    print(\"Installing app %s...\"%name)\n",
    "    assert name != \"home\"\n",
    "    git_url = registry[name][\"git_url\"]\n",
    "    appdir = get_appdir(name)\n",
    "    ! git clone --quiet $git_url $appdir\n",
    "    #TODO maybe call \"jupyter trust\" on all notebooks\n",
    "    sleep(1)\n",
    "    update_app_list()"
   ]
  },
  {
   "cell_type": "code",
   "execution_count": null,
   "metadata": {},
   "outputs": [],
   "source": [
    "def remove_app(name):\n",
    "    print(\"Removing app %s...\"%name)\n",
    "    assert name != \"home\"\n",
    "    appdir = get_appdir(name)\n",
    "    ! rm -rf $appdir\n",
    "    sleep(1)\n",
    "    update_app_list()"
   ]
  },
  {
   "cell_type": "code",
   "execution_count": null,
   "metadata": {},
   "outputs": [],
   "source": [
    "%%html\n",
    "<a href=\"./start.ipynb\"><button>Return to Launcher</button></a>"
   ]
  },
  {
   "cell_type": "code",
   "execution_count": null,
   "metadata": {},
   "outputs": [],
   "source": []
  }
 ],
 "metadata": {
  "kernelspec": {
   "display_name": "Python 2",
   "language": "python",
   "name": "python2"
  },
  "language_info": {
   "codemirror_mode": {
    "name": "ipython",
    "version": 2
   },
   "file_extension": ".py",
   "mimetype": "text/x-python",
   "name": "python",
   "nbconvert_exporter": "python",
   "pygments_lexer": "ipython2",
   "version": "2.7.13"
  }
 },
 "nbformat": 4,
 "nbformat_minor": 2
}
