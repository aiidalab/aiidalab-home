{
 "cells": [
  {
   "cell_type": "code",
   "execution_count": null,
   "metadata": {},
   "outputs": [],
   "source": [
    "import urllib.parse as urlparse\n",
    "import requests\n",
    "# try-except is a fix for Quantum Mobile release v19.03.0 that does not have requests_cache installed\n",
    "try:\n",
    "    import requests_cache\n",
    "except ImportError:\n",
    "    pass\n",
    "import sys\n",
    "import ipywidgets as ipw\n",
    "from IPython.lib import backgroundjobs as bg\n",
    "from app import AppBase\n",
    "from config import aiidalab_apps\n",
    "from dulwich.errors import NotGitRepository"
   ]
  },
  {
   "cell_type": "code",
   "execution_count": null,
   "metadata": {},
   "outputs": [],
   "source": [
    "url = urlparse.urlsplit(jupyter_notebook_url)\n",
    "try:\n",
    "    name = urlparse.parse_qs(url.query)['app'][0]\n",
    "except KeyError:\n",
    "    raise Exception(\"No app specified\")\n",
    "    exit()"
   ]
  },
  {
   "cell_type": "code",
   "execution_count": null,
   "metadata": {},
   "outputs": [],
   "source": [
    "def update_cache():\n",
    "    \"\"\"Run this process asynchronously\"\"\"\n",
    "    requests_cache.install_cache(cache_name='apps_meta', backend='sqlite', expire_after=3600, old_data_on_error=True)\n",
    "    requests.get(registry_url)\n",
    "    requests_cache.install_cache(cache_name='apps_meta', backend='sqlite')\n",
    "\n",
    "# try-except is a fix for Quantum Mobile release v19.03.0 that does not have requests_cache installed\n",
    "try:\n",
    "    requests_cache.install_cache(cache_name='apps_meta', backend='sqlite') # at start getting data from cache\n",
    "    update_cache_background = bg.BackgroundJobFunc(update_cache) # if requests_cache is installed, the\n",
    "                                                                 # update_cache_background variable will be present\n",
    "except NameError:\n",
    "    pass\n",
    "\n",
    "registry_url = 'https://aiidalab.materialscloud.org/appsdata/apps_meta.json'\n",
    "try:\n",
    "    apps = requests.get(registry_url).json()['apps']\n",
    "    if 'update_cache_background' in globals():\n",
    "        update_cache_background.start()\n",
    "except ValueError:\n",
    "    print(\"Registry server is unavailable! Can't check for the updates\")\n",
    "    apps = {}\n",
    "\n",
    "try:\n",
    "    app_data = apps[name]\n",
    "except KeyError:\n",
    "    app_data = None"
   ]
  },
  {
   "cell_type": "code",
   "execution_count": null,
   "metadata": {},
   "outputs": [],
   "source": [
    "app_base = AppBase(name, app_data, aiidalab_apps)"
   ]
  },
  {
   "cell_type": "code",
   "execution_count": null,
   "metadata": {},
   "outputs": [],
   "source": [
    "references = ipw.HTML(\"\"\"/<a href=\"start.ipynb\">home</a>/<a href=\"appstore.ipynb\">appstore</a>/{}\"\"\".format(name))\n",
    "empty = ipw.HTML('',layout={'width': '400px'} )"
   ]
  },
  {
   "cell_type": "code",
   "execution_count": null,
   "metadata": {},
   "outputs": [],
   "source": [
    "try:\n",
    "    description = ipw.HTML(\"\"\"<b> <div style=\"font-size: 30px; text-align:center;\">{}</div></b>\n",
    "    <br>\n",
    "    <b>Authors:</b> {}\n",
    "    <br>\n",
    "    <b>Description:</b> {}\n",
    "    <br>\n",
    "    <b>Git URL:</b> {}\"\"\".format(app_base.title,\n",
    "                          app_base.authors,\n",
    "                          app_base.description,\n",
    "                          app_base.git_url))\n",
    "    logo = app_base.logo\n",
    "    logo.layout.margin = \"100px 0px 0px 0px\"\n",
    "    description.layout = {'width': '800px'}\n",
    "    display(ipw.VBox([references,\n",
    "        ipw.HBox([app_base.logo, description]),\n",
    "        ipw.HBox([app_base.uninstall_button, app_base.update_button, app_base.install_button]),\n",
    "        ipw.HBox([app_base.install_info])]),\n",
    "        app_base.version)\n",
    "except NotGitRepository:\n",
    "    display(ipw.HTML(\"\"\"<center><h1>Enable <i class=\"fa fa-git\"></i> first!</h1></center>\"\"\"))\n",
    "    "
   ]
  }
 ],
 "metadata": {
  "kernelspec": {
   "display_name": "Python 2",
   "language": "python",
   "name": "python2"
  },
  "language_info": {
   "codemirror_mode": {
    "name": "ipython",
    "version": 2
   },
   "file_extension": ".py",
   "mimetype": "text/x-python",
   "name": "python",
   "nbconvert_exporter": "python",
   "pygments_lexer": "ipython2",
   "version": "2.7.15rc1"
  }
 },
 "nbformat": 4,
 "nbformat_minor": 2
}
