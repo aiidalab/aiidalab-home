{
 "cells": [
  {
   "cell_type": "code",
   "execution_count": 1,
   "metadata": {},
   "outputs": [],
   "source": [
    "import urllib.parse as urlparse\n",
    "from IPython.lib import backgroundjobs as bg\n",
    "import ipywidgets as ipw\n",
    "\n",
    "from aiidalab.app import AiidaLabApp\n",
    "from aiidalab.config import AIIDALAB_APPS, AIIDALAB_REGISTRY\n",
    "from aiidalab.utils import load_app_registry_entry\n",
    "\n",
    "from home.app_manager import AppManagerWidget"
   ]
  },
  {
   "cell_type": "code",
   "execution_count": 2,
   "metadata": {},
   "outputs": [],
   "source": [
    "url = urlparse.urlsplit(jupyter_notebook_url)\n",
    "try:\n",
    "    name = urlparse.parse_qs(url.query)['app'][0]\n",
    "except KeyError:\n",
    "    raise Exception(\"No app specified\")\n",
    "    exit()"
   ]
  },
  {
   "cell_type": "code",
   "execution_count": 3,
   "metadata": {},
   "outputs": [],
   "source": [
    "try:\n",
    "    app_data = load_app_registry_entry(name)\n",
    "except KeyError:\n",
    "    app_data = None"
   ]
  },
  {
   "cell_type": "code",
   "execution_count": 4,
   "metadata": {},
   "outputs": [
    {
     "data": {
      "application/vnd.jupyter.widget-view+json": {
       "model_id": "75db23112b6a400cb53128c4a3e8e745",
       "version_major": 2,
       "version_minor": 0
      },
      "text/plain": [
       "HTML(value='/<a href=\"start.ipynb\"> home </a>/<a href=\"appstore.ipynb\"> appstore </a>/ aiidalab-widgets-base')"
      ]
     },
     "metadata": {},
     "output_type": "display_data"
    }
   ],
   "source": [
    "display(ipw.HTML(\"\"\"/<a href=\"start.ipynb\"> home </a>/<a href=\"appstore.ipynb\"> appstore </a>/ {}\"\"\".format(name)))"
   ]
  },
  {
   "cell_type": "code",
   "execution_count": 5,
   "metadata": {},
   "outputs": [
    {
     "data": {
      "application/vnd.jupyter.widget-view+json": {
       "model_id": "157702d5be984261b03339493e0fe7a8",
       "version_major": 2,
       "version_minor": 0
      },
      "text/plain": [
       "AppManagerWidget(children=(HBox(children=(HeaderWarning(value='', layout=Layout(display='none', height='auto',…"
      ]
     },
     "metadata": {},
     "output_type": "display_data"
    }
   ],
   "source": [
    "app_base = AiidaLabApp(name, app_data, AIIDALAB_APPS)\n",
    "\n",
    "try:\n",
    "    display(AppManagerWidget(app_base, minimalistic=False))\n",
    "except Exception as error:  # pylint: disable=broad-except\n",
    "    display(ipw.HTML(\n",
    "        '<div style=\"font-size: 30px; text-align:center;\">'\n",
    "        f'Unable to show app widget due to error: {error}'\n",
    "        '</div>',\n",
    "        layout={'width': '600px'}))"
   ]
  }
 ],
 "metadata": {
  "kernelspec": {
   "display_name": "Python 3 (ipykernel)",
   "language": "python",
   "name": "python3"
  },
  "language_info": {
   "codemirror_mode": {
    "name": "ipython",
    "version": 3
   },
   "file_extension": ".py",
   "mimetype": "text/x-python",
   "name": "python",
   "nbconvert_exporter": "python",
   "pygments_lexer": "ipython3",
   "version": "3.9.13"
  }
 },
 "nbformat": 4,
 "nbformat_minor": 2
}
