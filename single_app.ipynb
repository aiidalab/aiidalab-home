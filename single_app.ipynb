{
 "cells": [
  {
   "cell_type": "code",
   "execution_count": null,
   "metadata": {},
   "outputs": [],
   "source": [
    "import urllib.parse as urlparse\n",
    "from IPython.lib import backgroundjobs as bg\n",
    "import ipywidgets as ipw\n",
    "\n",
    "from aiidalab.app import AiidalabApp\n",
    "from aiidalab.config import AIIDALAB_APPS, AIIDALAB_REGISTRY\n",
    "from aiidalab.utils import load_app_registry"
   ]
  },
  {
   "cell_type": "code",
   "execution_count": null,
   "metadata": {},
   "outputs": [],
   "source": [
    "url = urlparse.urlsplit(jupyter_notebook_url)\n",
    "try:\n",
    "    name = urlparse.parse_qs(url.query)['app'][0]\n",
    "except KeyError:\n",
    "    raise Exception(\"No app specified\")\n",
    "    exit()"
   ]
  },
  {
   "cell_type": "code",
   "execution_count": null,
   "metadata": {},
   "outputs": [],
   "source": [
    "apps = load_app_registry()\n",
    "try:\n",
    "    app_data = apps[name]\n",
    "except KeyError:\n",
    "    app_data = None"
   ]
  },
  {
   "cell_type": "code",
   "execution_count": null,
   "metadata": {},
   "outputs": [],
   "source": [
    "display(ipw.HTML(\"\"\"/<a href=\"start.ipynb\"> home </a>/<a href=\"appstore.ipynb\"> appstore </a>/ {}\"\"\".format(name)))"
   ]
  },
  {
   "cell_type": "code",
   "execution_count": null,
   "metadata": {},
   "outputs": [],
   "source": [
    "app_base = AiidalabApp(name, app_data, AIIDALAB_APPS)\n",
    "display(app_base.render())"
   ]
  }
 ],
 "metadata": {
  "kernelspec": {
   "display_name": "Python 3",
   "language": "python",
   "name": "python3"
  },
  "language_info": {
   "codemirror_mode": {
    "name": "ipython",
    "version": 3
   },
   "file_extension": ".py",
   "mimetype": "text/x-python",
   "name": "python",
   "nbconvert_exporter": "python",
   "pygments_lexer": "ipython3",
   "version": "3.6.9"
  }
 },
 "nbformat": 4,
 "nbformat_minor": 2
}
