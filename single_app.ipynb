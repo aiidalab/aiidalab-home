{
 "cells": [
  {
   "cell_type": "code",
   "execution_count": null,
   "metadata": {},
   "outputs": [],
   "source": [
    "%%javascript\n",
    "IPython.OutputArea.prototype._should_scroll = function(lines) {\n",
    "    return false;\n",
    "}\n",
    "if (document.getElementById('appmode-busy')) {\n",
    "    window.onbeforeunload = function() {return}\n",
    "}"
   ]
  },
  {
   "cell_type": "code",
   "execution_count": null,
   "metadata": {},
   "outputs": [],
   "source": [
    "import urllib.parse as urlparse\n",
    "\n",
    "import ipywidgets as ipw\n",
    "from aiidalab.app import AiidaLabApp\n",
    "from aiidalab.config import AIIDALAB_APPS\n",
    "from aiidalab.utils import load_app_registry_entry\n",
    "\n",
    "from home.app_manager import AppManagerWidget"
   ]
  },
  {
   "cell_type": "code",
   "execution_count": null,
   "metadata": {},
   "outputs": [],
   "source": [
    "# variable `jupyter_notebook_url` is injected by appmode\n",
    "url = urlparse.urlsplit(jupyter_notebook_url)  # noqa: F821\n",
    "try:\n",
    "    name = urlparse.parse_qs(url.query)[\"app\"][0]\n",
    "except KeyError as e:\n",
    "    raise ValueError(\"No app specified\") from e"
   ]
  },
  {
   "cell_type": "code",
   "execution_count": null,
   "metadata": {},
   "outputs": [],
   "source": [
    "try:\n",
    "    app_data = load_app_registry_entry(name)\n",
    "except KeyError:\n",
    "    app_data = None"
   ]
  },
  {
   "cell_type": "code",
   "execution_count": null,
   "metadata": {},
   "outputs": [],
   "source": [
    "display(\n",
    "    ipw.HTML(\n",
    "        f\"\"\"/<a href=\"start.ipynb\"> home </a>/<a href=\"appstore.ipynb\"> appstore </a>/ {name}\"\"\"\n",
    "    )\n",
    ")"
   ]
  },
  {
   "cell_type": "code",
   "execution_count": null,
   "metadata": {},
   "outputs": [],
   "source": [
    "app_base = AiidaLabApp(name, app_data, AIIDALAB_APPS)\n",
    "\n",
    "try:\n",
    "    display(AppManagerWidget(app_base, minimalistic=False))\n",
    "except Exception as error:\n",
    "    display(\n",
    "        ipw.HTML(\n",
    "            '<div style=\"font-size: 30px; text-align:center;\">'\n",
    "            f\"Unable to show app widget due to error: {error}\"\n",
    "            \"</div>\",\n",
    "            layout={\"width\": \"600px\"},\n",
    "        )\n",
    "    )"
   ]
  }
 ],
 "metadata": {
  "kernelspec": {
   "display_name": "Python 3 (ipykernel)",
   "language": "python",
   "name": "python3"
  },
  "language_info": {
   "codemirror_mode": {
    "name": "ipython",
    "version": 3
   },
   "file_extension": ".py",
   "mimetype": "text/x-python",
   "name": "python",
   "nbconvert_exporter": "python",
   "pygments_lexer": "ipython3",
   "version": "3.9.13"
  }
 },
 "nbformat": 4,
 "nbformat_minor": 2
}
