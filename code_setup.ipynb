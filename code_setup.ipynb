{
 "cells": [
  {
   "cell_type": "code",
   "execution_count": null,
   "metadata": {},
   "outputs": [],
   "source": [
    "from aiida import load_profile\n",
    "\n",
    "load_profile();"
   ]
  },
  {
   "cell_type": "markdown",
   "metadata": {},
   "source": [
    "# AiiDAlab Code Setup\n",
    "\n",
    "This page provides an interface for creating AiiDA `Code` references to executable on \n",
    "an AiiDA  `Computer` node."
   ]
  },
  {
   "cell_type": "code",
   "execution_count": null,
   "metadata": {
    "vscode": {
     "languageId": "html"
    }
   },
   "outputs": [
    {
     "data": {
      "text/html": [
       "\n",
       "<style>\n",
       "  .output_subarea {\n",
       "    max-width: none !important;\n",
       "  }\n",
       "</style>\n"
      ],
      "text/plain": [
       "<IPython.core.display.HTML object>"
      ]
     },
     "metadata": {},
     "output_type": "display_data"
    }
   ],
   "source": [
    "%%html\n",
    "\n",
    "<style>\n",
    "  .output_subarea {\n",
    "    max-width: none !important;\n",
    "  }\n",
    "  .header-tr {\n",
    "    column-gap: 5px;\n",
    "  }\n",
    "  .th {\n",
    "    padding: 2px 5px;\n",
    "    font-weight: bold;\n",
    "    color: #fff;\n",
    "    text-align: center;\n",
    "    background-color: #000;\n",
    "  }\n",
    "  .tr:hover {\n",
    "    background-color: #f5f5f5;\n",
    "  }\n",
    "</style>"
   ]
  },
  {
   "cell_type": "markdown",
   "metadata": {},
   "source": [
    "## Create new code"
   ]
  },
  {
   "cell_type": "code",
   "execution_count": null,
   "metadata": {},
   "outputs": [],
   "source": [
    "import ipywidgets as ipw\n",
    "from aiidalab_widgets_base.computational_resources import _ResourceSetupBaseWidget\n",
    "from aiidalab_widgets_base.utils import StatusHTML\n",
    "\n",
    "setup_message = StatusHTML(clear_after=15)\n",
    "\n",
    "widget = _ResourceSetupBaseWidget()\n",
    "ipw.dlink(\n",
    "    (widget, \"message\"),\n",
    "    (setup_message, \"message\"),\n",
    ")\n",
    "\n",
    "ipw.VBox(\n",
    "    [\n",
    "        widget,\n",
    "        setup_message,\n",
    "    ]\n",
    ")"
   ]
  },
  {
   "cell_type": "markdown",
   "metadata": {},
   "source": [
    "## Available codes"
   ]
  },
  {
   "cell_type": "code",
   "execution_count": null,
   "metadata": {},
   "outputs": [],
   "source": [
    "from home.code_setup import create_paginated_table, fetch_code_data\n",
    "\n",
    "df = fetch_code_data()\n",
    "paginated_table = create_paginated_table(df)\n",
    "display(paginated_table)"
   ]
  },
  {
   "cell_type": "code",
   "execution_count": null,
   "metadata": {},
   "outputs": [],
   "source": []
  }
 ],
 "metadata": {
  "kernelspec": {
   "display_name": "base",
   "language": "python",
   "name": "python3"
  },
  "language_info": {
   "codemirror_mode": {
    "name": "ipython",
    "version": 3
   },
   "file_extension": ".py",
   "mimetype": "text/x-python",
   "name": "python",
   "nbconvert_exporter": "python",
   "pygments_lexer": "ipython3",
   "version": "3.9.13"
  }
 },
 "nbformat": 4,
 "nbformat_minor": 2
}
