{
 "cells": [
  {
   "cell_type": "markdown",
   "metadata": {},
   "source": [
    "# Application Manager"
   ]
  },
  {
   "cell_type": "code",
   "execution_count": null,
   "metadata": {},
   "outputs": [],
   "source": [
    "from time import sleep\n",
    "import requests\n",
    "import ipywidgets as ipw\n",
    "from os import path\n",
    "import subprocess\n",
    "from collections import OrderedDict\n",
    "from IPython.display import clear_output"
   ]
  },
  {
   "cell_type": "code",
   "execution_count": null,
   "metadata": {},
   "outputs": [],
   "source": [
    "# load registry\n",
    "registry_url = 'https://raw.githubusercontent.com/aiidalab/aiidalab-registry/master/apps.json'\n",
    "registry = requests.get(registry_url).json()\n",
    "from config import aiidalab_apps"
   ]
  },
  {
   "cell_type": "code",
   "execution_count": null,
   "metadata": {},
   "outputs": [],
   "source": [
    "def get_appdir(name):\n",
    "    return path.join(aiidalab_apps, name)"
   ]
  },
  {
   "cell_type": "code",
   "execution_count": null,
   "metadata": {},
   "outputs": [],
   "source": [
    "def update_app_list():\n",
    "    selected = app_select.value\n",
    "    app_select.value = None\n",
    "    options = OrderedDict()\n",
    "    for name in sorted(registry.keys()):\n",
    "        label = registry[name]['label']\n",
    "        if path.exists(get_appdir(name)):\n",
    "            label += \" (installed)\"\n",
    "        options[label] = name\n",
    "    app_select.options = options\n",
    "    app_select.value = selected"
   ]
  },
  {
   "cell_type": "code",
   "execution_count": null,
   "metadata": {
    "scrolled": false
   },
   "outputs": [],
   "source": [
    "def on_app_change(c):\n",
    "    with out_app:\n",
    "        clear_output()\n",
    "        if app_select.value:\n",
    "            display_app_box(app_select.value)\n",
    "\n",
    "app_select = ipw.Select(layout={'height': '%dpx'%(len(registry)*20)})\n",
    "app_select.observe(on_app_change, names='value')\n",
    "\n",
    "out_app = ipw.Output()\n",
    "\n",
    "btn_check_all = ipw.Button(description='Check for updates.')\n",
    "btn_check_all.on_click(lambda b: check_all_updates())\n",
    "\n",
    "display(ipw.VBox([app_select, btn_check_all, ipw.HTML('<hr>'), out_app, ipw.HTML('<hr>')]))\n",
    "update_app_list()"
   ]
  },
  {
   "cell_type": "code",
   "execution_count": null,
   "metadata": {},
   "outputs": [],
   "source": [
    "def display_app_box(name):\n",
    "    print(\"Name: \"+name)\n",
    "    git_url = registry[name]['git_url']\n",
    "    print(\"URL: \"+git_url)\n",
    "    meta_url = registry[name]['meta_url']\n",
    "    metadata = requests.get(meta_url).json()\n",
    "    print(\"Description: \"+metadata['description'])\n",
    "    \n",
    "    if not path.exists(get_appdir(name)):\n",
    "        btn = ipw.Button(description=\"install\")\n",
    "        btn.on_click(lambda b: install_app(name))   \n",
    "        display(btn)\n",
    "    else:\n",
    "        btn_remove = ipw.Button(description=\"remove\")\n",
    "        btn_remove.disabled = (name == \"home\")\n",
    "        btn_remove.on_click(lambda b: remove_app(name))\n",
    "        \n",
    "        btn_do_update = ipw.Button(description='Update app', disabled=True)\n",
    "        btn_do_update.disabled = (check_update(name) != 'update')\n",
    "        btn_do_update.on_click(lambda b: install_update(name))\n",
    "        \n",
    "        ref_drop = ipw.Dropdown(description=\"Version:\")\n",
    "\n",
    "        display(ipw.HBox([btn_remove, btn_do_update, ref_drop]))\n",
    "\n",
    "        ver_sel = mk_version_selector(name) # move this down so the UI is more responsive\n",
    "        ref_drop.options=ver_sel['options']\n",
    "        ref_drop.value=ver_sel['head']\n",
    "        def on_ref_change(c):\n",
    "            change_ref(name, ref_drop.value)\n",
    "        ref_drop.observe(on_ref_change, names='value')"
   ]
  },
  {
   "cell_type": "code",
   "execution_count": null,
   "metadata": {},
   "outputs": [],
   "source": [
    "def check_all_updates():\n",
    "    with out_app:\n",
    "        display(ipw.HTML('<hr>'))\n",
    "        print 'Looking for updates...'\n",
    "        def check_all():\n",
    "            res = {}\n",
    "            for name in sorted(registry.keys()):\n",
    "                apppath = get_appdir(name)\n",
    "                if path.exists(apppath):\n",
    "                    res[name] = check_update(name)\n",
    "            return res\n",
    "\n",
    "        r = []\n",
    "        for name, u in check_all().items():\n",
    "            if u == 'update':\n",
    "                r.append(name)\n",
    "            # TODO: elif u == 'conflict':\n",
    "\n",
    "        def on_update_all(r):\n",
    "            for u in r:\n",
    "                install_update(u)\n",
    "\n",
    "        if len(r) > 0:\n",
    "            print 'Updates available for {}.'.format(', '.join(r))\n",
    "            btn_update_all = ipw.Button(description='Update all.')\n",
    "            btn_update_all.on_click(lambda b: on_update_all(r))\n",
    "            display(btn_update_all)\n",
    "        else:\n",
    "            print 'No updates available.'\n",
    "            \n",
    "def check_update(name):\n",
    "    appdir = get_appdir(name)\n",
    "    git_fetch = ! git -C $appdir fetch\n",
    "    git_status = ! git -C $appdir status\n",
    "    git_head_hash = ! git -C $appdir rev-parse HEAD\n",
    "    git_latest_hash = ! git -C $appdir rev-parse origin/master\n",
    "\n",
    "    # returns ['0'] if the latest commit is an ancestor of HEAD\n",
    "    git_head_hash = git_head_hash[0]\n",
    "    git_latest_hash = git_latest_hash[0]\n",
    "    git_is_ancestor = !git -C $appdir merge-base --is-ancestor $git_head_hash $git_latest_hash; echo $?\n",
    "        \n",
    "    if git_is_ancestor[0] == '0' and 'Your branch is behind' in git_status[1]:\n",
    "        if 'and can be fast-forwarded' in git_status[1]:\n",
    "            return 'update'\n",
    "        else:\n",
    "            return 'conflict'\n",
    "    else:\n",
    "        return 'no update'\n",
    "    \n",
    "def install_update(name):\n",
    "    with out_app:\n",
    "        print('Updating app {}...'.format(name))\n",
    "        appdir = get_appdir(name)\n",
    "        git_pull = ! git -C $appdir pull\n",
    "        print git_pull\n",
    "        print('Update done.')\n",
    "        sleep(1)\n",
    "    update_app_list()"
   ]
  },
  {
   "cell_type": "code",
   "execution_count": null,
   "metadata": {},
   "outputs": [],
   "source": [
    "def mk_version_selector(name):\n",
    "    git_url = registry[name]['git_url']\n",
    "    appdir = get_appdir(name)\n",
    "    ! git -C $appdir fetch --prune --quiet\n",
    "    \n",
    "    \n",
    "    ref_lines = ! git -C $appdir show-ref\n",
    "    options = {}\n",
    "    for line in ref_lines:\n",
    "        commit, ref = line.split()\n",
    "        options[ref] = commit\n",
    "\n",
    "    head_lines = ! git -C $appdir rev-parse HEAD\n",
    "    head = head_lines[0]\n",
    "    if head not in options.values():\n",
    "        options[head] = head\n",
    "    #html = ipw.HTML(\"<pre>head: {}</pre><pre>appdir: {}</pre>\".format(head, appdir))\n",
    "    \n",
    "    return {'options': options,\n",
    "            'head': head}"
   ]
  },
  {
   "cell_type": "code",
   "execution_count": null,
   "metadata": {},
   "outputs": [],
   "source": [
    "def change_ref(name, commit):\n",
    "    print(\"Changing version of app %s...\"%name)\n",
    "    appdir = get_appdir(name)\n",
    "    ! git -C $appdir checkout --quiet $commit\n",
    "    sleep(1)\n",
    "    update_app_list()"
   ]
  },
  {
   "cell_type": "code",
   "execution_count": null,
   "metadata": {},
   "outputs": [],
   "source": [
    "def install_app(name):\n",
    "    print(\"Installing app %s...\"%name)\n",
    "    assert name != \"home\"\n",
    "    git_url = registry[name][\"git_url\"]\n",
    "    appdir = get_appdir(name)\n",
    "    ! git clone --quiet $git_url $appdir\n",
    "    #TODO maybe call \"jupyter trust\" on all notebooks\n",
    "    sleep(1)\n",
    "    update_app_list()"
   ]
  },
  {
   "cell_type": "code",
   "execution_count": null,
   "metadata": {},
   "outputs": [],
   "source": [
    "def remove_app(name):\n",
    "    print(\"Removing app %s...\"%name)\n",
    "    assert name != \"home\"\n",
    "    appdir = get_appdir(name)\n",
    "    ! rm -rf $appdir\n",
    "    sleep(1)\n",
    "    update_app_list()"
   ]
  },
  {
   "cell_type": "code",
   "execution_count": null,
   "metadata": {},
   "outputs": [],
   "source": [
    "%%html\n",
    "<a href=\"./start.ipynb\"><button>Return to Launcher</button></a>"
   ]
  },
  {
   "cell_type": "code",
   "execution_count": null,
   "metadata": {
    "scrolled": true
   },
   "outputs": [],
   "source": [
    "if app_select.value is None:\n",
    "    app_select.value = 'home'"
   ]
  }
 ],
 "metadata": {
  "kernelspec": {
   "display_name": "Python 2",
   "language": "python",
   "name": "python2"
  },
  "language_info": {
   "codemirror_mode": {
    "name": "ipython",
    "version": 2
   },
   "file_extension": ".py",
   "mimetype": "text/x-python",
   "name": "python",
   "nbconvert_exporter": "python",
   "pygments_lexer": "ipython2",
   "version": "2.7.15"
  }
 },
 "nbformat": 4,
 "nbformat_minor": 2
}
