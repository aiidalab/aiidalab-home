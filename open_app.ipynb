{
 "cells": [
  {
   "cell_type": "code",
   "execution_count": null,
   "id": "1e6a8c8c",
   "metadata": {},
   "outputs": [],
   "source": [
    "import urllib.parse as urlparse\n",
    "import ipywidgets as ipw"
   ]
  },
  {
   "cell_type": "code",
   "execution_count": null,
   "id": "7e7e205e",
   "metadata": {},
   "outputs": [],
   "source": [
    "import sys\n",
    "from aiidalab.__main__ import _find_version_to_install, _parse_requirement\n",
    "from aiidalab.utils import PEP508CompliantUrl\n",
    "\n",
    "\n",
    "def identify_app_and_version(app_query, prereleases, force):    \n",
    "    try:\n",
    "        requirement = _parse_requirement(app_query)\n",
    "    except Exception as error:\n",
    "        raise RuntimeError(str(error)) from error\n",
    "    \n",
    "    try:\n",
    "        return _find_version_to_install(\n",
    "            requirement,\n",
    "            dependencies=\"install\",\n",
    "            force=force,\n",
    "            python_bin=sys.executable,\n",
    "            prereleases=prereleases)\n",
    "    except Exception as error:\n",
    "        raise RuntimeError(str(error)) from error"
   ]
  },
  {
   "cell_type": "code",
   "execution_count": null,
   "id": "b3e749de",
   "metadata": {},
   "outputs": [],
   "source": [
    "url = urlparse.urlsplit(jupyter_notebook_url)\n",
    "\n",
    "query = urlparse.parse_qs(url.query)"
   ]
  },
  {
   "cell_type": "code",
   "execution_count": null,
   "id": "c25a71a5",
   "metadata": {},
   "outputs": [],
   "source": [
    "from home.widgets import LogOutputWidget, Spinner, StatusHTML\n",
    "from IPython.display import Javascript\n",
    "\n",
    "header = ipw.HTML()\n",
    "logs = LogOutputWidget(layout=ipw.Layout(min_height=\"250px\", max_height=\"100px\"))\n",
    "spinner = Spinner()\n",
    "\n",
    "display(ipw.VBox([ipw.HBox([header, spinner]), logs]))\n",
    "\n",
    "try:\n",
    "    try:\n",
    "        app_query = query[\"app\"][0]\n",
    "    except KeyError:\n",
    "        raise RuntimeError(\"No app to install specified.\")\n",
    "    \n",
    "    force = query.get(\"force\", [False])[0]\n",
    "    prereleases = query.get(\"prereleases\", [False])[0]\n",
    "    \n",
    "    app, version = identify_app_and_version(query[\"app\"][0], force=force, prereleases=prereleases)\n",
    "except Exception as error:\n",
    "    header.value = f\"Error: {error}\"\n",
    "\n",
    "try:\n",
    "    if version is None:\n",
    "        header.value = \"App already installed.\"\n",
    "    else:\n",
    "        header.value = f\"Installing app '{app.name}': {version}...\"\n",
    "\n",
    "        spinner.enabled = True\n",
    "        app.install(\n",
    "            version=version,\n",
    "            install_dependencies=True,\n",
    "            python_bin=sys.executable,\n",
    "            stdout=logs,\n",
    "        )\n",
    "except Exception as error:\n",
    "    header.value = f\"Error while trying to install the app: {error}\"\n",
    "else:\n",
    "    redirect = query.get(\"redirect\", None)\n",
    "    if redirect:\n",
    "        redirect_url = urlparse.urlunsplit(url._replace(path=redirect[0], query=None, fragment=None))\n",
    "        header.value = f'Redirecting now to <a href=\"{redirect_url}\">{redirect_url}</a>...'\n",
    "        js = Javascript(f\"window.location = '{redirect_url}'\")\n",
    "        display(js)\n",
    "finally:\n",
    "    spinner.enabled = False"
   ]
  }
 ],
 "metadata": {
  "kernelspec": {
   "display_name": "Python 3 (ipykernel)",
   "language": "python",
   "name": "python3"
  },
  "language_info": {
   "codemirror_mode": {
    "name": "ipython",
    "version": 3
   },
   "file_extension": ".py",
   "mimetype": "text/x-python",
   "name": "python",
   "nbconvert_exporter": "python",
   "pygments_lexer": "ipython3",
   "version": "3.7.9"
  }
 },
 "nbformat": 4,
 "nbformat_minor": 5
}
