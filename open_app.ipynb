{
 "cells": [
  {
   "cell_type": "code",
   "execution_count": null,
   "id": "0",
   "metadata": {},
   "outputs": [],
   "source": [
    "import urllib.parse as urlparse\n",
    "\n",
    "import ipywidgets as ipw"
   ]
  },
  {
   "cell_type": "code",
   "execution_count": null,
   "id": "1",
   "metadata": {},
   "outputs": [],
   "source": [
    "import sys\n",
    "\n",
    "from aiidalab.__main__ import _find_version_to_install, _parse_requirement\n",
    "\n",
    "\n",
    "def identify_app_and_version(app_query, prereleases, force):\n",
    "    try:\n",
    "        requirement = _parse_requirement(app_query)\n",
    "    except Exception as error:\n",
    "        raise RuntimeError(str(error)) from error\n",
    "\n",
    "    try:\n",
    "        return _find_version_to_install(\n",
    "            requirement,\n",
    "            dependencies=\"install\",\n",
    "            force=force,\n",
    "            python_bin=sys.executable,\n",
    "            prereleases=prereleases,\n",
    "        )\n",
    "    except Exception as error:\n",
    "        raise RuntimeError(str(error)) from error"
   ]
  },
  {
   "cell_type": "code",
   "execution_count": null,
   "id": "2",
   "metadata": {},
   "outputs": [],
   "source": [
    "url = urlparse.urlsplit(jupyter_notebook_url)\n",
    "\n",
    "query = urlparse.parse_qs(url.query)"
   ]
  },
  {
   "cell_type": "code",
   "execution_count": null,
   "id": "3",
   "metadata": {},
   "outputs": [],
   "source": [
    "from IPython.display import Javascript\n",
    "\n",
    "from home.widgets import LogOutputWidget, Spinner\n",
    "\n",
    "header = ipw.HTML()\n",
    "logs = LogOutputWidget(layout=ipw.Layout(min_height=\"250px\", max_height=\"100px\"))\n",
    "spinner = Spinner()\n",
    "\n",
    "display(ipw.VBox([ipw.HBox([header, spinner]), logs]))\n",
    "\n",
    "try:\n",
    "    try:\n",
    "        app_query = query[\"app\"][0]\n",
    "    except KeyError:\n",
    "        raise RuntimeError(\"No app to install specified.\")\n",
    "\n",
    "    force = query.get(\"force\", [False])[0]\n",
    "    prereleases = query.get(\"prereleases\", [False])[0]\n",
    "\n",
    "    app, version = identify_app_and_version(\n",
    "        query[\"app\"][0], force=force, prereleases=prereleases\n",
    "    )\n",
    "except Exception as error:\n",
    "    header.value = f\"Error: {error}\"\n",
    "\n",
    "try:\n",
    "    if version is None:\n",
    "        header.value = \"App already installed.\"\n",
    "    else:\n",
    "        header.value = f\"Installing app '{app.name}': {version}...\"\n",
    "\n",
    "        spinner.enabled = True\n",
    "        app.install(\n",
    "            version=version,\n",
    "            install_dependencies=True,\n",
    "            python_bin=sys.executable,\n",
    "            stdout=logs,\n",
    "        )\n",
    "except Exception as error:\n",
    "    header.value = f\"Error while trying to install the app: {error}\"\n",
    "else:\n",
    "    redirect = query.get(\"redirect\", None)\n",
    "    if redirect:\n",
    "        redirect_url = urlparse.urlunsplit(\n",
    "            url._replace(path=redirect[0], query=None, fragment=None)\n",
    "        )\n",
    "        header.value = (\n",
    "            f'Redirecting now to <a href=\"{redirect_url}\">{redirect_url}</a>...'\n",
    "        )\n",
    "        js = Javascript(f\"window.location = '{redirect_url}'\")\n",
    "        display(js)\n",
    "finally:\n",
    "    spinner.enabled = False"
   ]
  }
 ],
 "metadata": {
  "kernelspec": {
   "display_name": "Python 3 (ipykernel)",
   "language": "python",
   "name": "python3"
  },
  "language_info": {
   "codemirror_mode": {
    "name": "ipython",
    "version": 3
   },
   "file_extension": ".py",
   "mimetype": "text/x-python",
   "name": "python",
   "nbconvert_exporter": "python",
   "pygments_lexer": "ipython3",
   "version": "3.7.9"
  }
 },
 "nbformat": 4,
 "nbformat_minor": 5
}
