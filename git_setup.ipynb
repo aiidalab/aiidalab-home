{
 "cells": [
  {
   "cell_type": "markdown",
   "metadata": {},
   "source": [
    "# Setup GIT access for App repository"
   ]
  },
  {
   "cell_type": "code",
   "execution_count": null,
   "metadata": {},
   "outputs": [],
   "source": [
    "import ipywidgets as ipw\n",
    "from IPython.display import clear_output"
   ]
  },
  {
   "cell_type": "markdown",
   "metadata": {},
   "source": [
    "## Step 1: Set name and email for commit message"
   ]
  },
  {
   "cell_type": "code",
   "execution_count": null,
   "metadata": {},
   "outputs": [],
   "source": [
    "name = ! git config --global user.name\n",
    "email = ! git config --global user.email\n",
    "\n",
    "def on_emailname_change(c):\n",
    "    name = name_txt.value\n",
    "    email = email_txt.value\n",
    "    ! git config --global user.name \"$name\"\n",
    "    ! git config --global user.email \"$email\"\n",
    "\n",
    "name_txt = ipw.Text(description=\"name\", value=name[0])\n",
    "name_txt.observe(on_emailname_change, names='value')\n",
    "email_txt = ipw.Text(description=\"email\", value=email[0])\n",
    "email_txt.observe(on_emailname_change, names='value')\n",
    "\n",
    "display(name_txt, email_txt)"
   ]
  },
  {
   "cell_type": "markdown",
   "metadata": {},
   "source": [
    "## Step 2: Add ssh key to git repository"
   ]
  },
  {
   "cell_type": "code",
   "execution_count": null,
   "metadata": {},
   "outputs": [],
   "source": [
    "! cat ${aiidalab_home}/.ssh/id_rsa.pub"
   ]
  }
 ],
 "metadata": {
  "kernelspec": {
   "display_name": "Python 2",
   "language": "python",
   "name": "python2"
  },
  "language_info": {
   "codemirror_mode": {
    "name": "ipython",
    "version": 2
   },
   "file_extension": ".py",
   "mimetype": "text/x-python",
   "name": "python",
   "nbconvert_exporter": "python",
   "pygments_lexer": "ipython2",
   "version": "2.7.15"
  }
 },
 "nbformat": 4,
 "nbformat_minor": 2
}
